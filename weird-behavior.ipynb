{
 "cells": [
  {
   "cell_type": "code",
   "execution_count": 14,
   "metadata": {
    "collapsed": false
   },
   "outputs": [
    {
     "data": {
      "text/plain": [
       "defined \u001b[32mclass \u001b[36mDog\u001b[0m\n",
       "defined \u001b[32mclass \u001b[36mDogOwner\u001b[0m\n",
       "\u001b[36md\u001b[0m: \u001b[32m$user.Dog\u001b[0m = \u001b[33mDog\u001b[0m(\u001b[32m\"Tyler\"\u001b[0m, \u001b[32m15\u001b[0m)\n",
       "\u001b[36mq\u001b[0m: \u001b[32m$user.DogOwner\u001b[0m = \u001b[33mDogOwner\u001b[0m(\u001b[33mDog\u001b[0m(\u001b[32m\"Tyler\"\u001b[0m, \u001b[32m15\u001b[0m), \u001b[32m\"Frank\"\u001b[0m)\n",
       "\u001b[36mres5_4\u001b[0m: \u001b[32mInt\u001b[0m = \u001b[32m15\u001b[0m"
      ]
     },
     "metadata": {},
     "output_type": "display_data"
    }
   ],
   "source": [
    "case class Dog(name: String, age: Int)\n",
    "case class DogOwner(dog: Dog, name: String)"
   ]
  },
  {
   "cell_type": "code",
   "execution_count": 4,
   "metadata": {
    "collapsed": false
   },
   "outputs": [
    {
     "name": "stdout",
     "output_type": "stream",
     "text": [
      ":: problems summary ::\n",
      ":::: WARNINGS\n",
      "\tUnable to reparse com.github.alexarchambault.jupyter#jupyter-scala-api_2.11.6;0.2.0-SNAPSHOT from sonatype-snapshots, using Fri May 15 16:42:30 PDT 2015\n",
      "\n",
      "\tChoosing sonatype-snapshots for com.github.alexarchambault.jupyter#jupyter-scala-api_2.11.6;0.2.0-SNAPSHOT\n",
      "\n",
      "\tUnable to reparse com.github.alexarchambault#ammonite-api_2.11.6;0.3.1-SNAPSHOT from sonatype-snapshots, using Fri May 15 16:33:32 PDT 2015\n",
      "\n",
      "\tChoosing sonatype-snapshots for com.github.alexarchambault#ammonite-api_2.11.6;0.3.1-SNAPSHOT\n",
      "\n",
      "\tUnable to reparse com.github.alexarchambault.jupyter#jupyter-api_2.11;0.2.0-SNAPSHOT from sonatype-snapshots, using Fri May 15 07:53:31 PDT 2015\n",
      "\n",
      "\tChoosing sonatype-snapshots for com.github.alexarchambault.jupyter#jupyter-api_2.11;0.2.0-SNAPSHOT\n",
      "\n",
      ":: problems summary ::\n",
      ":::: WARNINGS\n",
      "\tUnable to reparse com.github.alexarchambault.jupyter#jupyter-scala-api_2.11.6;0.2.0-SNAPSHOT from sonatype-snapshots, using Fri May 15 16:42:30 PDT 2015\n",
      "\n",
      "\tChoosing sonatype-snapshots for com.github.alexarchambault.jupyter#jupyter-scala-api_2.11.6;0.2.0-SNAPSHOT\n",
      "\n",
      "\tUnable to reparse com.github.alexarchambault#ammonite-api_2.11.6;0.3.1-SNAPSHOT from sonatype-snapshots, using Fri May 15 16:33:32 PDT 2015\n",
      "\n",
      "\tChoosing sonatype-snapshots for com.github.alexarchambault#ammonite-api_2.11.6;0.3.1-SNAPSHOT\n",
      "\n",
      "\tUnable to reparse com.github.alexarchambault.jupyter#jupyter-api_2.11;0.2.0-SNAPSHOT from sonatype-snapshots, using Fri May 15 07:53:31 PDT 2015\n",
      "\n",
      "\tChoosing sonatype-snapshots for com.github.alexarchambault.jupyter#jupyter-api_2.11;0.2.0-SNAPSHOT\n",
      "\n"
     ]
    },
    {
     "data": {
      "text/plain": []
     },
     "metadata": {},
     "output_type": "display_data"
    }
   ],
   "source": [
    "load.ivy(\"com.propensive\" %% \"rapture-core\" % \"1.1.0\")\n",
    "load.ivy(\"com.propensive\" %% \"rapture-json-jackson\" % \"1.1.0\")"
   ]
  },
  {
   "cell_type": "code",
   "execution_count": 12,
   "metadata": {
    "collapsed": false
   },
   "outputs": [
    {
     "data": {
      "text/plain": [
       "\u001b[32mimport \u001b[36mrapture.json.jsonBackends.jackson._\u001b[0m\n",
       "\u001b[32mimport \u001b[36mrapture.json._\u001b[0m\n",
       "\u001b[32mimport \u001b[36mrapture.core._\u001b[0m\n",
       "\u001b[32mimport \u001b[36mmodes.returnTry\u001b[0m\n",
       "\u001b[32mimport \u001b[36mformatters.humanReadable._\u001b[0m"
      ]
     },
     "metadata": {},
     "output_type": "display_data"
    }
   ],
   "source": [
    "import rapture.json.jsonBackends.jackson._\n",
    "import rapture.json._\n",
    "import rapture.core._\n",
    "import modes.returnTry\n",
    "import formatters.humanReadable._"
   ]
  },
  {
   "cell_type": "code",
   "execution_count": 18,
   "metadata": {
    "collapsed": false
   },
   "outputs": [
    {
     "data": {
      "text/plain": [
       "\u001b[36md\u001b[0m: \u001b[32mcmd7.INSTANCE.$ref$cmd5.Dog\u001b[0m = \u001b[33mDog\u001b[0m(\u001b[32m\"Tyler\"\u001b[0m, \u001b[32m15\u001b[0m)\n",
       "\u001b[36mq\u001b[0m: \u001b[32mcmd7.INSTANCE.$ref$cmd5.DogOwner\u001b[0m = \u001b[33mDogOwner\u001b[0m(\u001b[33mDog\u001b[0m(\u001b[32m\"Tyler\"\u001b[0m, \u001b[32m15\u001b[0m), \u001b[32m\"Frank\"\u001b[0m)\n",
       "\u001b[36mres7_2\u001b[0m: \u001b[32mInt\u001b[0m = \u001b[32m15\u001b[0m"
      ]
     },
     "metadata": {},
     "output_type": "display_data"
    }
   ],
   "source": [
    "// case classes are working just fine...\n",
    "val d = Dog(\"Tyler\", 15)\n",
    "val q = DogOwner(d, \"Frank\")\n",
    "d.age"
   ]
  },
  {
   "cell_type": "code",
   "execution_count": 24,
   "metadata": {
    "collapsed": false
   },
   "outputs": [
    {
     "data": {
      "text/plain": [
       "\u001b[36mdogJS\u001b[0m: \u001b[32mjava.lang.String\u001b[0m = \u001b[32m\"\"\"\n",
       "{\"name\":\"Tyler\",\"age\":15}\n",
       "\"\"\"\u001b[0m\n",
       "\u001b[36maDog\u001b[0m: \u001b[32mcmd11.INSTANCE.$ref$cmd9.Dog\u001b[0m = \u001b[33mDog\u001b[0m(\u001b[32m\"Tyler\"\u001b[0m, \u001b[32m15\u001b[0m)"
      ]
     },
     "metadata": {},
     "output_type": "display_data"
    }
   ],
   "source": [
    "// I can serialize a dog...\n",
    "val dogJS = Json(d).toString\n",
    "val aDog = Json.parse(dogJS).as[Dog]"
   ]
  },
  {
   "cell_type": "code",
   "execution_count": 25,
   "metadata": {
    "collapsed": false
   },
   "outputs": [
    {
     "ename": "",
     "evalue": "",
     "output_type": "error",
     "traceback": [
      "Compilation Failed",
      "\u001b[31mMain.scala:81: Cannot serialize type cmd12.this.$ref$cmd9.DogOwner to rapture.json.Json. Please provide an implicit Serializer of type cmd12.this.$ref$cmd9.DogOwner.",
      "              val dogOwnerJS = Json(q).toString ; val dogOwner = Json.parse(dogOwnerJS).as[DogOwner]",
      "                                   ^\u001b[0m"
     ]
    }
   ],
   "source": [
    "// Here, evaluating this fails, even though DogOwner is defined...\n",
    "// Though the error says I need an implicit serializer, I don't need this in normal ammonite-repl or compiled program.\n",
    "val dogOwnerJS = Json(q).toString\n",
    "val dogOwner = Json.parse(dogOwnerJS).as[DogOwner]"
   ]
  },
  {
   "cell_type": "code",
   "execution_count": 21,
   "metadata": {
    "collapsed": true
   },
   "outputs": [],
   "source": [
    "// However, if I define case-classes and values in same box, it works..."
   ]
  },
  {
   "cell_type": "code",
   "execution_count": 21,
   "metadata": {
    "collapsed": false
   },
   "outputs": [
    {
     "name": "stdout",
     "output_type": "stream",
     "text": [
      "DogOwner(Dog(Tyler,15),Frank)\n"
     ]
    },
    {
     "data": {
      "text/plain": [
       "defined \u001b[32mclass \u001b[36mDog\u001b[0m\n",
       "defined \u001b[32mclass \u001b[36mDogOwner\u001b[0m\n",
       "\u001b[36md\u001b[0m: \u001b[32m$user.Dog\u001b[0m = \u001b[33mDog\u001b[0m(\u001b[32m\"Tyler\"\u001b[0m, \u001b[32m15\u001b[0m)\n",
       "\u001b[36mq\u001b[0m: \u001b[32m$user.DogOwner\u001b[0m = \u001b[33mDogOwner\u001b[0m(\u001b[33mDog\u001b[0m(\u001b[32m\"Tyler\"\u001b[0m, \u001b[32m15\u001b[0m), \u001b[32m\"Frank\"\u001b[0m)\n",
       "\u001b[36masJs\u001b[0m: \u001b[32mjava.lang.String\u001b[0m = \u001b[32m\"\"\"\n",
       "{\"dog\":{\"name\":\"Tyler\",\"age\":15},\"name\":\"Frank\"}\n",
       "\"\"\"\u001b[0m\n",
       "\u001b[36mparsed\u001b[0m: \u001b[32m$user.DogOwner\u001b[0m = \u001b[33mDogOwner\u001b[0m(\u001b[33mDog\u001b[0m(\u001b[32m\"Tyler\"\u001b[0m, \u001b[32m15\u001b[0m), \u001b[32m\"Frank\"\u001b[0m)"
      ]
     },
     "metadata": {},
     "output_type": "display_data"
    }
   ],
   "source": [
    "case class Dog(name: String, age: Int)\n",
    "case class DogOwner(dog: Dog, name: String)\n",
    "val d = Dog(\"Tyler\", 15)\n",
    "val q = DogOwner(d, \"Frank\")\n",
    "val asJs = Json(q).toString\n",
    "val parsed = Json.parse(asJs).as[DogOwner]\n",
    "println(parsed)"
   ]
  },
  {
   "cell_type": "code",
   "execution_count": null,
   "metadata": {
    "collapsed": true
   },
   "outputs": [],
   "source": []
  }
 ],
 "metadata": {
  "kernelspec": {
   "display_name": "Scala 2.11",
   "language": "scala211",
   "name": "scala211"
  },
  "language_info": {
   "codemirror_mode": "text/x-scala",
   "file_extension": "scala",
   "mimetype": "text/x-scala",
   "name": "scala211",
   "pygments_lexer": "scala",
   "version": "2.11.6"
  }
 },
 "nbformat": 4,
 "nbformat_minor": 0
}
